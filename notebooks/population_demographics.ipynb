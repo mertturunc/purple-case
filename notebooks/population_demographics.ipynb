{
 "cells": [
  {
   "cell_type": "markdown",
   "id": "545deca7",
   "metadata": {},
   "source": [
    "# Nüfus ve Demografi Analizi"
   ]
  },
  {
   "cell_type": "markdown",
   "id": "25f728ff",
   "metadata": {},
   "source": [
    "## KPI – Nüfus İlişkisi"
   ]
  },
  {
   "cell_type": "markdown",
   "id": "21e3370b",
   "metadata": {},
   "source": [
    "## Haritalandırma"
   ]
  }
 ],
 "metadata": {
  "language_info": {
   "name": "python"
  }
 },
 "nbformat": 4,
 "nbformat_minor": 5
}
